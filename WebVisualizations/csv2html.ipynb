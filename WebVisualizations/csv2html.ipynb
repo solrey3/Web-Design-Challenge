{
 "cells": [
  {
   "cell_type": "code",
   "execution_count": 21,
   "metadata": {},
   "outputs": [],
   "source": [
    "import pandas as pd"
   ]
  },
  {
   "cell_type": "code",
   "execution_count": 22,
   "metadata": {},
   "outputs": [],
   "source": [
    "data_file = \"Resources/cities.csv\"\n",
    "data_file_df = pd.read_csv(data_file)"
   ]
  },
  {
   "cell_type": "code",
   "execution_count": 23,
   "metadata": {},
   "outputs": [
    {
     "output_type": "execute_result",
     "data": {
      "text/plain": "     City_ID          City  Cloudiness Country        Date  Humidity    Lat  \\\n0          0  jacareacanga           0      BR  2018-06-13        62  -6.22   \n1          1    kaitangata         100      NZ  2018-06-13        94 -46.28   \n2          2      goulburn          20      AU  2018-06-13        91 -34.75   \n3          3          lata          76      IN  2018-06-13        89  30.78   \n4          4    chokurdakh           0      RU  2018-06-13        88  70.62   \n..       ...           ...         ...     ...         ...       ...    ...   \n542      542        scalea          36      IT  2018-06-13       100  39.82   \n543      543    san andres          68      PH  2018-06-13       100  13.32   \n544      544        muisne          92      EC  2018-06-13        84   0.61   \n545      545           ati          20      TD  2018-06-13        25  13.21   \n546      546      san luis           0      AR  2018-06-13        53 -33.30   \n\n        Lng  Max Temp  Wind Speed  \n0    -57.76     89.60        6.93  \n1    169.85     42.61        5.64  \n2    149.72     44.32       10.11  \n3     78.62     59.89        0.94  \n4    147.90     32.17        2.95  \n..      ...       ...         ...  \n542   15.79     70.06        5.30  \n543  122.68     83.47       22.64  \n544  -80.02     76.90        4.63  \n545   18.34    104.53        4.97  \n546  -66.34     42.43        2.62  \n\n[547 rows x 10 columns]",
      "text/html": "<div>\n<style scoped>\n    .dataframe tbody tr th:only-of-type {\n        vertical-align: middle;\n    }\n\n    .dataframe tbody tr th {\n        vertical-align: top;\n    }\n\n    .dataframe thead th {\n        text-align: right;\n    }\n</style>\n<table border=\"1\" class=\"dataframe\">\n  <thead>\n    <tr style=\"text-align: right;\">\n      <th></th>\n      <th>City_ID</th>\n      <th>City</th>\n      <th>Cloudiness</th>\n      <th>Country</th>\n      <th>Date</th>\n      <th>Humidity</th>\n      <th>Lat</th>\n      <th>Lng</th>\n      <th>Max Temp</th>\n      <th>Wind Speed</th>\n    </tr>\n  </thead>\n  <tbody>\n    <tr>\n      <th>0</th>\n      <td>0</td>\n      <td>jacareacanga</td>\n      <td>0</td>\n      <td>BR</td>\n      <td>2018-06-13</td>\n      <td>62</td>\n      <td>-6.22</td>\n      <td>-57.76</td>\n      <td>89.60</td>\n      <td>6.93</td>\n    </tr>\n    <tr>\n      <th>1</th>\n      <td>1</td>\n      <td>kaitangata</td>\n      <td>100</td>\n      <td>NZ</td>\n      <td>2018-06-13</td>\n      <td>94</td>\n      <td>-46.28</td>\n      <td>169.85</td>\n      <td>42.61</td>\n      <td>5.64</td>\n    </tr>\n    <tr>\n      <th>2</th>\n      <td>2</td>\n      <td>goulburn</td>\n      <td>20</td>\n      <td>AU</td>\n      <td>2018-06-13</td>\n      <td>91</td>\n      <td>-34.75</td>\n      <td>149.72</td>\n      <td>44.32</td>\n      <td>10.11</td>\n    </tr>\n    <tr>\n      <th>3</th>\n      <td>3</td>\n      <td>lata</td>\n      <td>76</td>\n      <td>IN</td>\n      <td>2018-06-13</td>\n      <td>89</td>\n      <td>30.78</td>\n      <td>78.62</td>\n      <td>59.89</td>\n      <td>0.94</td>\n    </tr>\n    <tr>\n      <th>4</th>\n      <td>4</td>\n      <td>chokurdakh</td>\n      <td>0</td>\n      <td>RU</td>\n      <td>2018-06-13</td>\n      <td>88</td>\n      <td>70.62</td>\n      <td>147.90</td>\n      <td>32.17</td>\n      <td>2.95</td>\n    </tr>\n    <tr>\n      <th>...</th>\n      <td>...</td>\n      <td>...</td>\n      <td>...</td>\n      <td>...</td>\n      <td>...</td>\n      <td>...</td>\n      <td>...</td>\n      <td>...</td>\n      <td>...</td>\n      <td>...</td>\n    </tr>\n    <tr>\n      <th>542</th>\n      <td>542</td>\n      <td>scalea</td>\n      <td>36</td>\n      <td>IT</td>\n      <td>2018-06-13</td>\n      <td>100</td>\n      <td>39.82</td>\n      <td>15.79</td>\n      <td>70.06</td>\n      <td>5.30</td>\n    </tr>\n    <tr>\n      <th>543</th>\n      <td>543</td>\n      <td>san andres</td>\n      <td>68</td>\n      <td>PH</td>\n      <td>2018-06-13</td>\n      <td>100</td>\n      <td>13.32</td>\n      <td>122.68</td>\n      <td>83.47</td>\n      <td>22.64</td>\n    </tr>\n    <tr>\n      <th>544</th>\n      <td>544</td>\n      <td>muisne</td>\n      <td>92</td>\n      <td>EC</td>\n      <td>2018-06-13</td>\n      <td>84</td>\n      <td>0.61</td>\n      <td>-80.02</td>\n      <td>76.90</td>\n      <td>4.63</td>\n    </tr>\n    <tr>\n      <th>545</th>\n      <td>545</td>\n      <td>ati</td>\n      <td>20</td>\n      <td>TD</td>\n      <td>2018-06-13</td>\n      <td>25</td>\n      <td>13.21</td>\n      <td>18.34</td>\n      <td>104.53</td>\n      <td>4.97</td>\n    </tr>\n    <tr>\n      <th>546</th>\n      <td>546</td>\n      <td>san luis</td>\n      <td>0</td>\n      <td>AR</td>\n      <td>2018-06-13</td>\n      <td>53</td>\n      <td>-33.30</td>\n      <td>-66.34</td>\n      <td>42.43</td>\n      <td>2.62</td>\n    </tr>\n  </tbody>\n</table>\n<p>547 rows × 10 columns</p>\n</div>"
     },
     "metadata": {},
     "execution_count": 23
    }
   ],
   "source": [
    "data_file_df['Date'] = pd.to_datetime(data_file_df['Date'], unit='s').dt.strftime('%Y-%m-%d')\n",
    "\n",
    "data_file_df"
   ]
  },
  {
   "cell_type": "code",
   "execution_count": 24,
   "metadata": {},
   "outputs": [],
   "source": [
    "html = data_file_df.to_html('table.html',header=True,index=False)\n",
    "\n",
    "html"
   ]
  }
 ],
 "metadata": {
  "kernelspec": {
   "display_name": "Python 3",
   "language": "python",
   "name": "python3"
  },
  "language_info": {
   "codemirror_mode": {
    "name": "ipython",
    "version": 3
   },
   "file_extension": ".py",
   "mimetype": "text/x-python",
   "name": "python",
   "nbconvert_exporter": "python",
   "pygments_lexer": "ipython3",
   "version": "3.7.6-final"
  }
 },
 "nbformat": 4,
 "nbformat_minor": 4
}